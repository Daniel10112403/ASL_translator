{
 "cells": [
  {
   "cell_type": "code",
   "execution_count": null,
   "id": "f2d4bd26-feca-4cdc-b522-10a29751add4",
   "metadata": {},
   "outputs": [
    {
     "name": "stdout",
     "output_type": "stream",
     "text": [
      "Collecting wget\n",
      "  Using cached wget-3.2-py3-none-any.whl\n",
      "Installing collected packages: wget\n",
      "Successfully installed wget-3.2\n",
      "Note: you may need to restart the kernel to use updated packages.\n"
     ]
    }
   ],
   "source": [
    "%pip install wget"
   ]
  },
  {
   "cell_type": "markdown",
   "id": "200d7da7",
   "metadata": {},
   "source": [
    "1. Importar la data que se va ausar"
   ]
  },
  {
   "cell_type": "code",
   "execution_count": 1,
   "id": "60a2f2df-5856-45b9-a91a-7db44f165e70",
   "metadata": {},
   "outputs": [
    {
     "name": "stderr",
     "output_type": "stream",
     "text": [
      "--2025-03-13 10:42:15--  https://assets.digitalocean.com/articles/signlanguage_data/sign-language-mnist.tar.gz\n",
      "Resolving assets.digitalocean.com (assets.digitalocean.com)... 199.232.176.233\n",
      "Connecting to assets.digitalocean.com (assets.digitalocean.com)|199.232.176.233|:443... connected.\n",
      "ERROR: cannot verify assets.digitalocean.com's certificate, issued by 'CN=GlobalSign Atlas R3 DV TLS CA 2024 Q3,O=GlobalSign nv-sa,C=BE':\n",
      "  Unable to locally verify the issuer's authority.\n",
      "To connect to assets.digitalocean.com insecurely, use `--no-check-certificate'.\n"
     ]
    }
   ],
   "source": [
    "!wget https://assets.digitalocean.com/articles/signlanguage_data/sign-language-mnist.tar.gz"
   ]
  },
  {
   "cell_type": "markdown",
   "id": "3f24d7ef",
   "metadata": {},
   "source": [
    "2. Decompress obtained data"
   ]
  },
  {
   "cell_type": "code",
   "execution_count": 2,
   "id": "2af9e2ec",
   "metadata": {},
   "outputs": [],
   "source": [
    "!tar -xzf sign-language-mnist.tar.gz"
   ]
  }
 ],
 "metadata": {
  "kernelspec": {
   "display_name": "sl_proyect",
   "language": "python",
   "name": "python3"
  },
  "language_info": {
   "codemirror_mode": {
    "name": "ipython",
    "version": 3
   },
   "file_extension": ".py",
   "mimetype": "text/x-python",
   "name": "python",
   "nbconvert_exporter": "python",
   "pygments_lexer": "ipython3",
   "version": "3.11.11"
  }
 },
 "nbformat": 4,
 "nbformat_minor": 5
}
